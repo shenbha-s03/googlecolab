{
  "nbformat": 4,
  "nbformat_minor": 0,
  "metadata": {
    "colab": {
      "provenance": [],
      "authorship_tag": "ABX9TyMO9kEga2pfs6FQv/VIrBM/",
      "include_colab_link": true
    },
    "kernelspec": {
      "name": "python3",
      "display_name": "Python 3"
    },
    "language_info": {
      "name": "python"
    }
  },
  "cells": [
    {
      "cell_type": "markdown",
      "metadata": {
        "id": "view-in-github",
        "colab_type": "text"
      },
      "source": [
        "<a href=\"https://colab.research.google.com/github/shenbha-s03/googlecolab/blob/main/AIML2A.ipynb\" target=\"_parent\"><img src=\"https://colab.research.google.com/assets/colab-badge.svg\" alt=\"Open In Colab\"/></a>"
      ]
    },
    {
      "cell_type": "code",
      "execution_count": 1,
      "metadata": {
        "colab": {
          "base_uri": "https://localhost:8080/"
        },
        "id": "YVqCg_zrSyXP",
        "outputId": "13d18ff6-cb52-4785-b257-c16a72cb6e17"
      },
      "outputs": [
        {
          "output_type": "stream",
          "name": "stdout",
          "text": [
            "Path found: [(0, 0), (1, 0), (2, 0), (2, 1), (2, 2), (3, 2), (3, 3), (3, 4), (4, 4)]\n"
          ]
        }
      ],
      "source": [
        "import heapq\n",
        "\n",
        "# A* Node class\n",
        "class Node:\n",
        "    def __init__(self, position, parent=None):\n",
        "        self.position = position  # (x, y)\n",
        "        self.parent = parent\n",
        "        self.g = 0  # Cost from start to current node\n",
        "        self.h = 0  # Heuristic (estimated cost to goal)\n",
        "        self.f = 0  # Total cost\n",
        "\n",
        "    def __lt__(self, other):\n",
        "        return self.f < other.f\n",
        "\n",
        "# Heuristic function: Manhattan distance\n",
        "def heuristic(a, b):\n",
        "    return abs(a[0] - b[0]) + abs(a[1] - b[1])\n",
        "\n",
        "# A* algorithm\n",
        "def astar(grid, start, end):\n",
        "    open_list = []\n",
        "    closed_set = set()\n",
        "\n",
        "    start_node = Node(start)\n",
        "    end_node = Node(end)\n",
        "\n",
        "    heapq.heappush(open_list, start_node)\n",
        "\n",
        "    while open_list:\n",
        "        current_node = heapq.heappop(open_list)\n",
        "\n",
        "        if current_node.position == end_node.position:\n",
        "            # Reconstruct path\n",
        "            path = []\n",
        "            while current_node:\n",
        "                path.append(current_node.position)\n",
        "                current_node = current_node.parent\n",
        "            return path[::-1]  # Reverse the path\n",
        "\n",
        "        closed_set.add(current_node.position)\n",
        "\n",
        "        x, y = current_node.position\n",
        "        neighbors = [\n",
        "            (x - 1, y), (x + 1, y),\n",
        "            (x, y - 1), (x, y + 1)\n",
        "        ]\n",
        "\n",
        "        for next_pos in neighbors:\n",
        "            nx, ny = next_pos\n",
        "            if 0 <= nx < len(grid) and 0 <= ny < len(grid[0]):\n",
        "                if grid[nx][ny] == 1:\n",
        "                    continue  # obstacle\n",
        "                if next_pos in closed_set:\n",
        "                    continue\n",
        "\n",
        "                neighbor = Node(next_pos, current_node)\n",
        "                neighbor.g = current_node.g + 1\n",
        "                neighbor.h = heuristic(neighbor.position, end_node.position)\n",
        "                neighbor.f = neighbor.g + neighbor.h\n",
        "\n",
        "                # Check if it's already in the open list with a lower f\n",
        "                if any(open_node.position == neighbor.position and open_node.f <= neighbor.f for open_node in open_list):\n",
        "                    continue\n",
        "\n",
        "                heapq.heappush(open_list, neighbor)\n",
        "\n",
        "    return None  # No path found\n",
        "\n",
        "# Example grid (0 = free, 1 = obstacle)\n",
        "grid = [\n",
        "    [0, 1, 0, 0, 0],\n",
        "    [0, 1, 0, 1, 0],\n",
        "    [0, 0, 0, 1, 0],\n",
        "    [0, 1, 0, 0, 0],\n",
        "    [0, 0, 0, 1, 0]\n",
        "]\n",
        "\n",
        "start = (0, 0)\n",
        "end = (4, 4)\n",
        "\n",
        "path = astar(grid, start, end)\n",
        "if path:\n",
        "    print(\"Path found:\", path)\n",
        "else:\n",
        "    print(\"No path found.\")\n"
      ]
    }
  ]
}