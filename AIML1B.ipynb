{
  "nbformat": 4,
  "nbformat_minor": 0,
  "metadata": {
    "colab": {
      "provenance": [],
      "authorship_tag": "ABX9TyMvzEy6CDSdqU7mEPZI19f3",
      "include_colab_link": true
    },
    "kernelspec": {
      "name": "python3",
      "display_name": "Python 3"
    },
    "language_info": {
      "name": "python"
    }
  },
  "cells": [
    {
      "cell_type": "markdown",
      "metadata": {
        "id": "view-in-github",
        "colab_type": "text"
      },
      "source": [
        "<a href=\"https://colab.research.google.com/github/shenbha-s03/googlecolab/blob/main/AIML1B.ipynb\" target=\"_parent\"><img src=\"https://colab.research.google.com/assets/colab-badge.svg\" alt=\"Open In Colab\"/></a>"
      ]
    },
    {
      "cell_type": "code",
      "execution_count": 1,
      "metadata": {
        "colab": {
          "base_uri": "https://localhost:8080/"
        },
        "id": "DQx9QYbrrVM3",
        "outputId": "1394000d-e6bf-4c1c-9923-b1a9b85d78c5"
      },
      "outputs": [
        {
          "output_type": "stream",
          "name": "stdout",
          "text": [
            "Path found: A -> B -> E -> F\n"
          ]
        }
      ],
      "source": [
        "def dfs(graph, start, goal):\n",
        "    stack = [[start]]     # Stack of paths\n",
        "    visited = set()       # To keep track of visited nodes\n",
        "\n",
        "    while stack:\n",
        "        path = stack.pop()      # LIFO: get the last path from the stack\n",
        "        node = path[-1]         # Current node is the last in the path\n",
        "\n",
        "        if node == goal:\n",
        "            return path\n",
        "\n",
        "        if node not in visited:\n",
        "            visited.add(node)\n",
        "\n",
        "            for neighbor in reversed(graph.get(node, [])):  # Reverse for consistent ordering\n",
        "                new_path = list(path)\n",
        "                new_path.append(neighbor)\n",
        "                stack.append(new_path)\n",
        "\n",
        "    return None  # If no path is found\n",
        "\n",
        "# Example usage\n",
        "if __name__ == \"__main__\":\n",
        "    # Define the graph as an adjacency list\n",
        "    graph = {\n",
        "        'A': ['B', 'C'],\n",
        "        'B': ['D', 'E'],\n",
        "        'C': ['F'],\n",
        "        'D': [],\n",
        "        'E': ['F'],\n",
        "        'F': []\n",
        "    }\n",
        "\n",
        "    start_node = 'A'\n",
        "    goal_node = 'F'\n",
        "    path = dfs(graph, start_node, goal_node)\n",
        "\n",
        "    if path:\n",
        "        print(\"Path found:\", \" -> \".join(path))\n",
        "    else:\n",
        "        print(\"No path found from\", start_node, \"to\", goal_node)\n"
      ]
    }
  ]
}