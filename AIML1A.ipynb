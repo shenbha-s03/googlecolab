{
  "nbformat": 4,
  "nbformat_minor": 0,
  "metadata": {
    "colab": {
      "provenance": [],
      "authorship_tag": "ABX9TyO5/T8cfhyDa3HYew98gCT6",
      "include_colab_link": true
    },
    "kernelspec": {
      "name": "python3",
      "display_name": "Python 3"
    },
    "language_info": {
      "name": "python"
    }
  },
  "cells": [
    {
      "cell_type": "markdown",
      "metadata": {
        "id": "view-in-github",
        "colab_type": "text"
      },
      "source": [
        "<a href=\"https://colab.research.google.com/github/shenbha-s03/googlecolab/blob/main/AIML1A.ipynb\" target=\"_parent\"><img src=\"https://colab.research.google.com/assets/colab-badge.svg\" alt=\"Open In Colab\"/></a>"
      ]
    },
    {
      "cell_type": "code",
      "execution_count": 1,
      "metadata": {
        "colab": {
          "base_uri": "https://localhost:8080/"
        },
        "id": "1cynbX9cp8Z3",
        "outputId": "f83b6074-7c1f-43af-ecf4-abb5599cf99b"
      },
      "outputs": [
        {
          "output_type": "stream",
          "name": "stdout",
          "text": [
            "Path found: A -> C -> F\n"
          ]
        }
      ],
      "source": [
        "from collections import deque\n",
        "\n",
        "def bfs(graph, start, goal):\n",
        "    visited = set()           # To keep track of visited nodes\n",
        "    queue = deque([[start]])  # Queue of paths\n",
        "\n",
        "    if start == goal:\n",
        "        return [start]\n",
        "\n",
        "    while queue:\n",
        "        path = queue.popleft()        # FIFO: get the first path from the queue\n",
        "        node = path[-1]               # Current node is the last in the path\n",
        "\n",
        "        if node not in visited:\n",
        "            neighbors = graph.get(node, [])\n",
        "\n",
        "            for neighbor in neighbors:\n",
        "                new_path = list(path)         # Copy current path\n",
        "                new_path.append(neighbor)     # Add neighbor to the new path\n",
        "                queue.append(new_path)\n",
        "\n",
        "                if neighbor == goal:\n",
        "                    return new_path\n",
        "\n",
        "            visited.add(node)\n",
        "\n",
        "    return None  # If no path found\n",
        "\n",
        "# Example usage\n",
        "if __name__ == \"__main__\":\n",
        "    # Define the graph as an adjacency list\n",
        "    graph = {\n",
        "        'A': ['B', 'C'],\n",
        "        'B': ['D', 'E'],\n",
        "        'C': ['F'],\n",
        "        'D': [],\n",
        "        'E': ['F'],\n",
        "        'F': []\n",
        "    }\n",
        "\n",
        "    start_node = 'A'\n",
        "    goal_node = 'F'\n",
        "    path = bfs(graph, start_node, goal_node)\n",
        "\n",
        "    if path:\n",
        "        print(\"Path found:\", \" -> \".join(path))\n",
        "    else:\n",
        "        print(\"No path found from\", start_node, \"to\", goal_node)\n"
      ]
    }
  ]
}